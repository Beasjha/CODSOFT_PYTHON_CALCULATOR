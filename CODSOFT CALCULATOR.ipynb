{
 "cells": [
  {
   "cell_type": "markdown",
   "id": "ab0120d5",
   "metadata": {},
   "source": [
    "# CALCULATOR"
   ]
  },
  {
   "cell_type": "code",
   "execution_count": 1,
   "id": "819e2712",
   "metadata": {},
   "outputs": [
    {
     "name": "stdout",
     "output_type": "stream",
     "text": [
      "Select a operation: \n",
      "1.Add 2.Subtract 3.Multiply 4.Division\n",
      "Enter a choice(1/2/3/4): 1\n",
      "Enter 1st number: 60\n",
      "Enter 2nd number: 45\n",
      "60.0 + 45.0 = 105.0\n",
      "Let's do next calculation? (yes/no): yes\n",
      "Enter a choice(1/2/3/4): 2\n",
      "Enter 1st number: 88\n",
      "Enter 2nd number: 14\n",
      "88.0 - 14.0 = 74.0\n",
      "Let's do next calculation? (yes/no): yes\n",
      "Enter a choice(1/2/3/4): 3\n",
      "Enter 1st number: 16\n",
      "Enter 2nd number: 4\n",
      "16.0 * 4.0 = 64.0\n",
      "Let's do next calculation? (yes/no): yes\n",
      "Enter a choice(1/2/3/4): 4\n",
      "Enter 1st number: 90\n",
      "Enter 2nd number: 3\n",
      "90.0 / 3.0 = 30.0\n",
      "Let's do next calculation? (yes/no): no\n"
     ]
    }
   ],
   "source": [
    "def add(x,y):\n",
    "    return (x+y)\n",
    "def sub(x,y):\n",
    "    return (x-y)\n",
    "def multiply(x,y):\n",
    "    return (x*y)\n",
    "def division(x,y):\n",
    "    return (x/y)\n",
    "print(\"Select a operation: \")\n",
    "print(\"1.Add\",\"2.Subtract\",\"3.Multiply\",\"4.Division\")\n",
    "while True:\n",
    "    choice=input(\"Enter a choice(1/2/3/4): \")\n",
    "    if choice in ('1','2','3','4'):\n",
    "        try:\n",
    "            n1=float(input(\"Enter 1st number: \"))\n",
    "            n2=float(input(\"Enter 2nd number: \"))\n",
    "        except ValueError:\n",
    "            print(\"Invalid input. Please enter a number.\")\n",
    "            continue\n",
    "        if choice == '1':\n",
    "            print(n1, \"+\", n2, \"=\", add(n1, n2))\n",
    "        elif choice == '2':\n",
    "            print(n1, \"-\", n2, \"=\", sub(n1, n2))\n",
    "        elif choice == '3':\n",
    "            print(n1, \"*\", n2, \"=\", multiply(n1, n2))\n",
    "        elif choice == '4':\n",
    "            print(n1, \"/\", n2, \"=\", division(n1, n2))\n",
    "        next_calculation = input(\"Let's do next calculation? (yes/no): \")\n",
    "        if next_calculation == \"no\":\n",
    "          break\n",
    "    else:\n",
    "        print(\"Invalid Input\")"
   ]
  },
  {
   "cell_type": "code",
   "execution_count": null,
   "id": "26047b1c",
   "metadata": {},
   "outputs": [],
   "source": []
  }
 ],
 "metadata": {
  "kernelspec": {
   "display_name": "Python 3 (ipykernel)",
   "language": "python",
   "name": "python3"
  },
  "language_info": {
   "codemirror_mode": {
    "name": "ipython",
    "version": 3
   },
   "file_extension": ".py",
   "mimetype": "text/x-python",
   "name": "python",
   "nbconvert_exporter": "python",
   "pygments_lexer": "ipython3",
   "version": "3.11.5"
  }
 },
 "nbformat": 4,
 "nbformat_minor": 5
}
